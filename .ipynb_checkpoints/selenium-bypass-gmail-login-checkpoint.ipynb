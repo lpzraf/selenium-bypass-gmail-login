{
 "cells": [
  {
   "cell_type": "markdown",
   "metadata": {},
   "source": [
    "## Bypass Gmail Login with Selenium"
   ]
  },
  {
   "cell_type": "code",
   "execution_count": null,
   "metadata": {},
   "outputs": [],
   "source": [
    "from selenium import webdriver\n",
    "from time import sleep"
   ]
  },
  {
   "cell_type": "code",
   "execution_count": null,
   "metadata": {},
   "outputs": [],
   "source": [
    "driver = webdriver.Chrome('add your local path',options=chromeOptions)\n",
    "driver.get('add any url that triggers a gmail login')\n",
    "time.sleep(3)\n",
    "# GMail Login\n",
    "driver.find_element_by_xpath('//input[@type=\"email\"]').send_keys(\"add username\")\n",
    "driver.find_element_by_xpath('//*[@id=\"identifierNext\"]').click()\n",
    "time.sleep(3)\n",
    "driver.get('https://development-dot-spotify-b2b.appspot.com/en-US/')\n",
    "driver.find_element_by_xpath('//input[@type=\"password\"]').send_keys(\"add pw\")\n",
    "driver.find_element_by_xpath('//*[@id=\"passwordNext\"]').click()\n",
    "sleep(10)\n",
    "\n",
    "# Do any other actions below.\n"
   ]
  },
  {
   "cell_type": "code",
   "execution_count": null,
   "metadata": {},
   "outputs": [],
   "source": [
    "driver.quit()"
   ]
  }
 ],
 "metadata": {
  "kernelspec": {
   "display_name": "Python 3",
   "language": "python",
   "name": "python3"
  },
  "language_info": {
   "codemirror_mode": {
    "name": "ipython",
    "version": 3
   },
   "file_extension": ".py",
   "mimetype": "text/x-python",
   "name": "python",
   "nbconvert_exporter": "python",
   "pygments_lexer": "ipython3",
   "version": "3.7.4"
  }
 },
 "nbformat": 4,
 "nbformat_minor": 2
}
